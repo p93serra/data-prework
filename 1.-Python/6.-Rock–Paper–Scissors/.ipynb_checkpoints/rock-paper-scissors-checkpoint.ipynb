{
 "cells": [
  {
   "cell_type": "markdown",
   "metadata": {},
   "source": [
    "<img src=\"https://bit.ly/2VnXWr2\" width=\"100\" align=\"left\">"
   ]
  },
  {
   "cell_type": "markdown",
   "metadata": {},
   "source": [
    "# Rock, Paper & Scissors\n",
    "\n",
    "Let's play the famous game against our computer. You can check the rules [here](https://en.wikipedia.org/wiki/Rock%E2%80%93paper%E2%80%93scissors). \n",
    "\n",
    "## Task\n",
    "Create a program that imitates the playability of the well known game of rock, paper, scissors. Follow the guidelines provided.\n",
    "\n",
    "## Tools\n",
    "1. Loop: **for/while**\n",
    "2. Functions: **input(), print()...**\n",
    "3. Conditional statements: **if, elif, else**\n",
    "4. Definition of functions. Modular programming\n",
    "5. Import modules\n",
    "\n",
    "**To solve this challenge, the use of functions is recommended.**\n",
    "\n",
    "#### 1. Import the choice function of the random module."
   ]
  },
  {
   "cell_type": "code",
   "execution_count": 30,
   "metadata": {},
   "outputs": [],
   "source": [
    "import random"
   ]
  },
  {
   "cell_type": "markdown",
   "metadata": {},
   "source": [
    "#### 2. Create a list that includes the 3 possible gesture options of the game: 'rock', 'paper' or 'scissors'. Store the list in a variable called `gestures`."
   ]
  },
  {
   "cell_type": "code",
   "execution_count": 31,
   "metadata": {},
   "outputs": [],
   "source": [
    "gestures = [\"rock\", \"paper\", \"scissors\"]"
   ]
  },
  {
   "cell_type": "markdown",
   "metadata": {},
   "source": [
    "#### 3. Create a variable called `n_rounds` to store the maximum number of rounds to play in a game. \n",
    "Remember that the number of rounds must be odd: 1, 3, 5, ..."
   ]
  },
  {
   "cell_type": "code",
   "execution_count": 32,
   "metadata": {},
   "outputs": [],
   "source": [
    "n_rounds = 5"
   ]
  },
  {
   "cell_type": "markdown",
   "metadata": {},
   "source": [
    "#### 4. Create a variable called `rounds_to_win` to store the number of rounds that a player must win to win the game.\n",
    "**Hint**: the value stored in `rounds_to_win` depends on the value of `n_rounds`. "
   ]
  },
  {
   "cell_type": "code",
   "execution_count": 33,
   "metadata": {},
   "outputs": [],
   "source": [
    "rounds_to_win = (n_rounds / 2) + 1"
   ]
  },
  {
   "cell_type": "markdown",
   "metadata": {},
   "source": [
    "#### 5. Create two variables to store the number of rounds that the computer and the player have won. Call these variables `cpu_score` and `player_score`."
   ]
  },
  {
   "cell_type": "code",
   "execution_count": 34,
   "metadata": {},
   "outputs": [],
   "source": [
    "cpu_score = 0\n",
    "player_score = 0"
   ]
  },
  {
   "cell_type": "markdown",
   "metadata": {},
   "source": [
    "#### 6. Define a function that randomly returns one of the 3 gesture options.\n",
    "You will use this function to simulate the gesture choice of the computer. "
   ]
  },
  {
   "cell_type": "code",
   "execution_count": 35,
   "metadata": {},
   "outputs": [],
   "source": [
    "def f_cpu_choice():\n",
    "    return random.choice(gestures)"
   ]
  },
  {
   "cell_type": "markdown",
   "metadata": {},
   "source": [
    "#### 7. Define a function that asks the player which is the gesture he or she wants to show: 'rock', 'paper' or 'scissors'.\n",
    "The player should only be allowed to choose one of the 3 gesture options. If the player's choice is not rock, paper or scissors, keep asking until it is."
   ]
  },
  {
   "cell_type": "code",
   "execution_count": 67,
   "metadata": {},
   "outputs": [],
   "source": [
    "def f_player_choice(gestures):\n",
    "    choice = input(\"Make your choice between \" + \"/\".join(gestures) + \": \")\n",
    "    if choice in gestures:\n",
    "        return choice\n",
    "    else:\n",
    "        print(\"Error: Wrong choice!!!\")\n",
    "        return f_player_choice(gestures)"
   ]
  },
  {
   "cell_type": "markdown",
   "metadata": {},
   "source": [
    "#### 8. Define a function that checks who won a round. \n",
    "The function should return 0 if there is a tie, 1 if the computer wins and 2 if the player wins."
   ]
  },
  {
   "cell_type": "code",
   "execution_count": 41,
   "metadata": {},
   "outputs": [],
   "source": [
    "winner_matrix = [[0, 2, 1],\n",
    "                [1, 0, 2],\n",
    "                [2, 1, 0]]\n",
    "gestures_num = {\"rock\":0, \"paper\":1, \"scissors\":2}\n",
    "\n",
    "def f_winner(cpu_choice, player_choice):\n",
    "    cpu_num = gestures_num[cpu_choice]\n",
    "    player_num = gestures_num[player_choice]\n",
    "    return winner_matrix[cpu_num][player_num]"
   ]
  },
  {
   "cell_type": "markdown",
   "metadata": {},
   "source": [
    "#### 9. Define a function that prints the choice of the computer, the choice of the player and a message that announces who won the current round. \n",
    "You should also use this function to update the variables that count the number of rounds that the computer and the player have won. The score of the winner increases by one point. If there is a tie, the score does not increase."
   ]
  },
  {
   "cell_type": "code",
   "execution_count": 54,
   "metadata": {},
   "outputs": [],
   "source": [
    "def f_verbose(player_gesture, cpu_gesture, winner_round,\n",
    "              cpu_score, player_score, current_round,\n",
    "              n_rounds, rounds_to_win):\n",
    "    print(\"---------------------------------\")\n",
    "    print(\"Round \" + str(current_round+1) + \"/\" + str(n_rounds))\n",
    "    print(\"Player choose: \", player_gesture)\n",
    "    print(\"Cpu choose:    \", cpu_gesture)\n",
    "    if winner_round == 0:\n",
    "        print(\"Tie\")\n",
    "    elif winner_round == 1:\n",
    "        print(\"Cpu win\")\n",
    "        cpu_score += 1\n",
    "    elif winner_round == 2:\n",
    "        print(\"Player win\")\n",
    "        player_score += 1\n",
    "    print(\"Cpu score:    \" + str(cpu_score) + \"/\" + str(rounds_to_win))\n",
    "    print(\"Player score: \" + str(player_score) + \"/\" + str(rounds_to_win))\n",
    "    return cpu_score, player_score"
   ]
  },
  {
   "cell_type": "markdown",
   "metadata": {},
   "source": [
    "#### 10. Now it's time to code the execution of the game using the functions and variables you defined above. \n",
    "\n",
    "First, create a loop structure that repeats while no player reaches the minimum score necessary to win and the number of rounds is less than the maximum number of rounds to play in a game.  \n",
    "\n",
    "Inside the loop, use the functions and variables above to create the execution of a round: ask for the player's choice, generate the random choice of the computer, show the round results, update the scores, etc. "
   ]
  },
  {
   "cell_type": "code",
   "execution_count": 60,
   "metadata": {},
   "outputs": [],
   "source": [
    "def f_game():\n",
    "    n_rounds = int(input(\"How many rounds do you want to play?\"))\n",
    "    rounds_to_win = int((n_rounds / 2) + 1)\n",
    "    if (n_rounds % 2) == 0:\n",
    "        print(\"Error: Choose an odd number of rounds!\")\n",
    "        f_game()\n",
    "    else:\n",
    "        print(str(n_rounds) + \" Rounds\")\n",
    "        \n",
    "    current_round = 0\n",
    "    cpu_score = 0\n",
    "    player_score = 0\n",
    "    gestures = [\"rock\", \"paper\", \"scissors\"]\n",
    "    winner_matrix = [[0, 2, 1],\n",
    "                     [1, 0, 2],\n",
    "                     [2, 1, 0]]\n",
    "    gestures_num = {\"rock\":0, \"paper\":1, \"scissors\":2}\n",
    "    \n",
    "    while (cpu_score < rounds_to_win) & (player_score < rounds_to_win) & (current_round < n_rounds):\n",
    "        cpu_choice = f_cpu_choice()\n",
    "        player_choice = f_player_choice(gestures)\n",
    "        winner = f_winner(cpu_choice, player_choice)\n",
    "        cpu_score, player_score = f_verbose(player_choice, cpu_choice, winner, cpu_score, player_score, current_round, n_rounds, rounds_to_win)\n",
    "        current_round += 1\n",
    "    \n",
    "    if cpu_score > player_score:\n",
    "        return 1\n",
    "    elif player_score > cpu_score:\n",
    "        return 2\n",
    "    else:\n",
    "        return 0"
   ]
  },
  {
   "cell_type": "markdown",
   "metadata": {},
   "source": [
    "#### 11. Print the winner of the game based on who won more rounds.\n",
    "Remember that the game might be tied. "
   ]
  },
  {
   "cell_type": "code",
   "execution_count": 68,
   "metadata": {},
   "outputs": [
    {
     "name": "stdout",
     "output_type": "stream",
     "text": [
      "How many rounds do you want to play?5\n",
      "5 Rounds\n",
      "Make your choice between rock/paper/scissors: df\n",
      "Error: Wrong choice!!!\n",
      "Make your choice between rock/paper/scissors: rock\n",
      "---------------------------------\n",
      "Round 1/5\n",
      "Player choose:  rock\n",
      "Cpu choose:     rock\n",
      "Tie\n",
      "Cpu score:    0/3\n",
      "Player score: 0/3\n"
     ]
    },
    {
     "ename": "KeyboardInterrupt",
     "evalue": "Interrupted by user",
     "output_type": "error",
     "traceback": [
      "\u001b[0;31m---------------------------------------------------------------------------\u001b[0m",
      "\u001b[0;31mKeyboardInterrupt\u001b[0m                         Traceback (most recent call last)",
      "\u001b[0;32m<ipython-input-68-10787cc6558e>\u001b[0m in \u001b[0;36m<module>\u001b[0;34m\u001b[0m\n\u001b[0;32m----> 1\u001b[0;31m \u001b[0mresult\u001b[0m \u001b[0;34m=\u001b[0m \u001b[0mf_game\u001b[0m\u001b[0;34m(\u001b[0m\u001b[0;34m)\u001b[0m\u001b[0;34m\u001b[0m\u001b[0;34m\u001b[0m\u001b[0m\n\u001b[0m\u001b[1;32m      2\u001b[0m \u001b[0;34m\u001b[0m\u001b[0m\n\u001b[1;32m      3\u001b[0m \u001b[0mprint\u001b[0m\u001b[0;34m(\u001b[0m\u001b[0;34m\"---------------------------------\"\u001b[0m\u001b[0;34m)\u001b[0m\u001b[0;34m\u001b[0m\u001b[0;34m\u001b[0m\u001b[0m\n\u001b[1;32m      4\u001b[0m \u001b[0;32mif\u001b[0m \u001b[0mresult\u001b[0m \u001b[0;34m==\u001b[0m \u001b[0;36m0\u001b[0m\u001b[0;34m:\u001b[0m\u001b[0;34m\u001b[0m\u001b[0;34m\u001b[0m\u001b[0m\n\u001b[1;32m      5\u001b[0m     \u001b[0mprint\u001b[0m\u001b[0;34m(\u001b[0m\u001b[0;34m\"RESULT: Tie\"\u001b[0m\u001b[0;34m)\u001b[0m\u001b[0;34m\u001b[0m\u001b[0;34m\u001b[0m\u001b[0m\n",
      "\u001b[0;32m<ipython-input-60-abbba9675cde>\u001b[0m in \u001b[0;36mf_game\u001b[0;34m()\u001b[0m\n\u001b[1;32m     19\u001b[0m     \u001b[0;32mwhile\u001b[0m \u001b[0;34m(\u001b[0m\u001b[0mcpu_score\u001b[0m \u001b[0;34m<\u001b[0m \u001b[0mrounds_to_win\u001b[0m\u001b[0;34m)\u001b[0m \u001b[0;34m&\u001b[0m \u001b[0;34m(\u001b[0m\u001b[0mplayer_score\u001b[0m \u001b[0;34m<\u001b[0m \u001b[0mrounds_to_win\u001b[0m\u001b[0;34m)\u001b[0m \u001b[0;34m&\u001b[0m \u001b[0;34m(\u001b[0m\u001b[0mcurrent_round\u001b[0m \u001b[0;34m<\u001b[0m \u001b[0mn_rounds\u001b[0m\u001b[0;34m)\u001b[0m\u001b[0;34m:\u001b[0m\u001b[0;34m\u001b[0m\u001b[0;34m\u001b[0m\u001b[0m\n\u001b[1;32m     20\u001b[0m         \u001b[0mcpu_choice\u001b[0m \u001b[0;34m=\u001b[0m \u001b[0mf_cpu_choice\u001b[0m\u001b[0;34m(\u001b[0m\u001b[0;34m)\u001b[0m\u001b[0;34m\u001b[0m\u001b[0;34m\u001b[0m\u001b[0m\n\u001b[0;32m---> 21\u001b[0;31m         \u001b[0mplayer_choice\u001b[0m \u001b[0;34m=\u001b[0m \u001b[0mf_player_choice\u001b[0m\u001b[0;34m(\u001b[0m\u001b[0mgestures\u001b[0m\u001b[0;34m)\u001b[0m\u001b[0;34m\u001b[0m\u001b[0;34m\u001b[0m\u001b[0m\n\u001b[0m\u001b[1;32m     22\u001b[0m         \u001b[0mwinner\u001b[0m \u001b[0;34m=\u001b[0m \u001b[0mf_winner\u001b[0m\u001b[0;34m(\u001b[0m\u001b[0mcpu_choice\u001b[0m\u001b[0;34m,\u001b[0m \u001b[0mplayer_choice\u001b[0m\u001b[0;34m)\u001b[0m\u001b[0;34m\u001b[0m\u001b[0;34m\u001b[0m\u001b[0m\n\u001b[1;32m     23\u001b[0m         \u001b[0mcpu_score\u001b[0m\u001b[0;34m,\u001b[0m \u001b[0mplayer_score\u001b[0m \u001b[0;34m=\u001b[0m \u001b[0mf_verbose\u001b[0m\u001b[0;34m(\u001b[0m\u001b[0mplayer_choice\u001b[0m\u001b[0;34m,\u001b[0m \u001b[0mcpu_choice\u001b[0m\u001b[0;34m,\u001b[0m \u001b[0mwinner\u001b[0m\u001b[0;34m,\u001b[0m \u001b[0mcpu_score\u001b[0m\u001b[0;34m,\u001b[0m \u001b[0mplayer_score\u001b[0m\u001b[0;34m,\u001b[0m \u001b[0mcurrent_round\u001b[0m\u001b[0;34m,\u001b[0m \u001b[0mn_rounds\u001b[0m\u001b[0;34m,\u001b[0m \u001b[0mrounds_to_win\u001b[0m\u001b[0;34m)\u001b[0m\u001b[0;34m\u001b[0m\u001b[0;34m\u001b[0m\u001b[0m\n",
      "\u001b[0;32m<ipython-input-67-ebe3aa8a1b6d>\u001b[0m in \u001b[0;36mf_player_choice\u001b[0;34m(gestures)\u001b[0m\n\u001b[1;32m      1\u001b[0m \u001b[0;32mdef\u001b[0m \u001b[0mf_player_choice\u001b[0m\u001b[0;34m(\u001b[0m\u001b[0mgestures\u001b[0m\u001b[0;34m)\u001b[0m\u001b[0;34m:\u001b[0m\u001b[0;34m\u001b[0m\u001b[0;34m\u001b[0m\u001b[0m\n\u001b[0;32m----> 2\u001b[0;31m     \u001b[0mchoice\u001b[0m \u001b[0;34m=\u001b[0m \u001b[0minput\u001b[0m\u001b[0;34m(\u001b[0m\u001b[0;34m\"Make your choice between \"\u001b[0m \u001b[0;34m+\u001b[0m \u001b[0;34m\"/\"\u001b[0m\u001b[0;34m.\u001b[0m\u001b[0mjoin\u001b[0m\u001b[0;34m(\u001b[0m\u001b[0mgestures\u001b[0m\u001b[0;34m)\u001b[0m \u001b[0;34m+\u001b[0m \u001b[0;34m\": \"\u001b[0m\u001b[0;34m)\u001b[0m\u001b[0;34m\u001b[0m\u001b[0;34m\u001b[0m\u001b[0m\n\u001b[0m\u001b[1;32m      3\u001b[0m     \u001b[0;32mif\u001b[0m \u001b[0mchoice\u001b[0m \u001b[0;32min\u001b[0m \u001b[0mgestures\u001b[0m\u001b[0;34m:\u001b[0m\u001b[0;34m\u001b[0m\u001b[0;34m\u001b[0m\u001b[0m\n\u001b[1;32m      4\u001b[0m         \u001b[0;32mreturn\u001b[0m \u001b[0mchoice\u001b[0m\u001b[0;34m\u001b[0m\u001b[0;34m\u001b[0m\u001b[0m\n\u001b[1;32m      5\u001b[0m     \u001b[0;32melse\u001b[0m\u001b[0;34m:\u001b[0m\u001b[0;34m\u001b[0m\u001b[0;34m\u001b[0m\u001b[0m\n",
      "\u001b[0;32m/usr/local/Cellar/jupyterlab/2.2.9_1/libexec/lib/python3.9/site-packages/ipykernel/kernelbase.py\u001b[0m in \u001b[0;36mraw_input\u001b[0;34m(self, prompt)\u001b[0m\n\u001b[1;32m    858\u001b[0m                 \u001b[0;34m\"raw_input was called, but this frontend does not support input requests.\"\u001b[0m\u001b[0;34m\u001b[0m\u001b[0;34m\u001b[0m\u001b[0m\n\u001b[1;32m    859\u001b[0m             )\n\u001b[0;32m--> 860\u001b[0;31m         return self._input_request(str(prompt),\n\u001b[0m\u001b[1;32m    861\u001b[0m             \u001b[0mself\u001b[0m\u001b[0;34m.\u001b[0m\u001b[0m_parent_ident\u001b[0m\u001b[0;34m,\u001b[0m\u001b[0;34m\u001b[0m\u001b[0;34m\u001b[0m\u001b[0m\n\u001b[1;32m    862\u001b[0m             \u001b[0mself\u001b[0m\u001b[0;34m.\u001b[0m\u001b[0m_parent_header\u001b[0m\u001b[0;34m,\u001b[0m\u001b[0;34m\u001b[0m\u001b[0;34m\u001b[0m\u001b[0m\n",
      "\u001b[0;32m/usr/local/Cellar/jupyterlab/2.2.9_1/libexec/lib/python3.9/site-packages/ipykernel/kernelbase.py\u001b[0m in \u001b[0;36m_input_request\u001b[0;34m(self, prompt, ident, parent, password)\u001b[0m\n\u001b[1;32m    902\u001b[0m             \u001b[0;32mexcept\u001b[0m \u001b[0mKeyboardInterrupt\u001b[0m\u001b[0;34m:\u001b[0m\u001b[0;34m\u001b[0m\u001b[0;34m\u001b[0m\u001b[0m\n\u001b[1;32m    903\u001b[0m                 \u001b[0;31m# re-raise KeyboardInterrupt, to truncate traceback\u001b[0m\u001b[0;34m\u001b[0m\u001b[0;34m\u001b[0m\u001b[0;34m\u001b[0m\u001b[0m\n\u001b[0;32m--> 904\u001b[0;31m                 \u001b[0;32mraise\u001b[0m \u001b[0mKeyboardInterrupt\u001b[0m\u001b[0;34m(\u001b[0m\u001b[0;34m\"Interrupted by user\"\u001b[0m\u001b[0;34m)\u001b[0m \u001b[0;32mfrom\u001b[0m \u001b[0;32mNone\u001b[0m\u001b[0;34m\u001b[0m\u001b[0;34m\u001b[0m\u001b[0m\n\u001b[0m\u001b[1;32m    905\u001b[0m             \u001b[0;32mexcept\u001b[0m \u001b[0mException\u001b[0m \u001b[0;32mas\u001b[0m \u001b[0me\u001b[0m\u001b[0;34m:\u001b[0m\u001b[0;34m\u001b[0m\u001b[0;34m\u001b[0m\u001b[0m\n\u001b[1;32m    906\u001b[0m                 \u001b[0mself\u001b[0m\u001b[0;34m.\u001b[0m\u001b[0mlog\u001b[0m\u001b[0;34m.\u001b[0m\u001b[0mwarning\u001b[0m\u001b[0;34m(\u001b[0m\u001b[0;34m\"Invalid Message:\"\u001b[0m\u001b[0;34m,\u001b[0m \u001b[0mexc_info\u001b[0m\u001b[0;34m=\u001b[0m\u001b[0;32mTrue\u001b[0m\u001b[0;34m)\u001b[0m\u001b[0;34m\u001b[0m\u001b[0;34m\u001b[0m\u001b[0m\n",
      "\u001b[0;31mKeyboardInterrupt\u001b[0m: Interrupted by user"
     ]
    }
   ],
   "source": [
    "result = f_game()\n",
    "\n",
    "print(\"---------------------------------\")\n",
    "if result == 0:\n",
    "    print(\"RESULT: Tie\")\n",
    "elif result == 1:\n",
    "    print(\"RESULT: CPU Win\")\n",
    "elif result == 2:\n",
    "    print(\"RESULT: Player Win\")\n",
    "print(\"---------------------------------\")"
   ]
  },
  {
   "cell_type": "markdown",
   "metadata": {},
   "source": [
    "# Bonus: Rock, Paper, Scissors, Lizard & Spock\n",
    "![](images/rpsls.jpg)\n",
    "\n",
    "In this challenge, you need to improve the previous game by adding two new options. To know more about the rules of the improved version of rock, paper, scissors, check this [link](http://www.samkass.com/theories/RPSSL.html). \n",
    "\n",
    "In addition, you will also need to improve how the game interacts with the player: the number of rounds to play, which must be an odd number, will be requested to the user until a valid number is entered. Define a new function to make that request.\n",
    "\n",
    "**Hint**: Try to reuse the code that you already coded in the previous challenge. If your code is efficient, this bonus will only consist of simple modifications to the original game."
   ]
  },
  {
   "cell_type": "code",
   "execution_count": 71,
   "metadata": {},
   "outputs": [
    {
     "name": "stdout",
     "output_type": "stream",
     "text": [
      "How many rounds do you want to play?5\n",
      "5 Rounds\n",
      "Make your choice between rock/paper/scissors/lizard/spock: rock\n",
      "---------------------------------\n",
      "Round 1/5\n",
      "Player choose:  rock\n",
      "Cpu choose:     scissors\n",
      "Player win\n",
      "Cpu score:    0/3\n",
      "Player score: 1/3\n",
      "Make your choice between rock/paper/scissors/lizard/spock: d\n",
      "Error: Wrong choice!!!\n",
      "Make your choice between rock/paper/scissors/lizard/spock: spock\n",
      "---------------------------------\n",
      "Round 2/5\n",
      "Player choose:  spock\n",
      "Cpu choose:     scissors\n",
      "Player win\n",
      "Cpu score:    0/3\n",
      "Player score: 2/3\n",
      "Make your choice between rock/paper/scissors/lizard/spock: lizard\n",
      "---------------------------------\n",
      "Round 3/5\n",
      "Player choose:  lizard\n",
      "Cpu choose:     lizard\n",
      "Tie\n",
      "Cpu score:    0/3\n",
      "Player score: 2/3\n",
      "Make your choice between rock/paper/scissors/lizard/spock: paper\n",
      "---------------------------------\n",
      "Round 4/5\n",
      "Player choose:  paper\n",
      "Cpu choose:     paper\n",
      "Tie\n",
      "Cpu score:    0/3\n",
      "Player score: 2/3\n",
      "Make your choice between rock/paper/scissors/lizard/spock: paper\n",
      "---------------------------------\n",
      "Round 5/5\n",
      "Player choose:  paper\n",
      "Cpu choose:     scissors\n",
      "Cpu win\n",
      "Cpu score:    1/3\n",
      "Player score: 2/3\n",
      "---------------------------------\n",
      "RESULT: Player Win\n",
      "---------------------------------\n"
     ]
    }
   ],
   "source": [
    "n_rounds = int(input(\"How many rounds do you want to play?\"))\n",
    "rounds_to_win = int((n_rounds / 2) + 1)\n",
    "if (n_rounds % 2) == 0:\n",
    "    print(\"Error: Choose an odd number of rounds!\")\n",
    "    f_game()\n",
    "else:\n",
    "    print(str(n_rounds) + \" Rounds\")\n",
    "\n",
    "current_round = 0\n",
    "cpu_score = 0\n",
    "player_score = 0\n",
    "gestures = [\"rock\", \"paper\", \"scissors\", \"lizard\", \"spock\"]\n",
    "winner_matrix = [[0, 2, 1, 1, 2],\n",
    "                 [1, 0, 2, 2, 1],\n",
    "                 [2, 1, 0, 1, 2],\n",
    "                 [2, 1, 2, 0, 1],\n",
    "                 [1, 2, 1, 2, 0]]\n",
    "gestures_num = {\"rock\":0, \"paper\":1, \"scissors\":2, \"lizard\":3, \"spock\":4}\n",
    "    \n",
    "def f_cpu_choice():\n",
    "    return random.choice(gestures)\n",
    "\n",
    "def f_player_choice(gestures):\n",
    "    choice = input(\"Make your choice between \" + \"/\".join(gestures) + \": \")\n",
    "    if choice in gestures:\n",
    "        return choice\n",
    "    else:\n",
    "        print(\"Error: Wrong choice!!!\")\n",
    "        return f_player_choice(gestures)\n",
    "\n",
    "def f_winner(cpu_choice, player_choice):\n",
    "    cpu_num = gestures_num[cpu_choice]\n",
    "    player_num = gestures_num[player_choice]\n",
    "    return winner_matrix[cpu_num][player_num]\n",
    "\n",
    "def f_verbose(player_gesture, cpu_gesture, winner_round,\n",
    "              cpu_score, player_score, current_round,\n",
    "              n_rounds, rounds_to_win):\n",
    "    print(\"---------------------------------\")\n",
    "    print(\"Round \" + str(current_round+1) + \"/\" + str(n_rounds))\n",
    "    print(\"Player choose: \", player_gesture)\n",
    "    print(\"Cpu choose:    \", cpu_gesture)\n",
    "    if winner_round == 0:\n",
    "        print(\"Tie\")\n",
    "    elif winner_round == 1:\n",
    "        print(\"Cpu win\")\n",
    "        cpu_score += 1\n",
    "    elif winner_round == 2:\n",
    "        print(\"Player win\")\n",
    "        player_score += 1\n",
    "    print(\"Cpu score:    \" + str(cpu_score) + \"/\" + str(rounds_to_win))\n",
    "    print(\"Player score: \" + str(player_score) + \"/\" + str(rounds_to_win))\n",
    "    return cpu_score, player_score\n",
    "\n",
    "def f_game_bonus(cpu_score, player_score, current_round, n_rounds, rounds_to_win, gestures):\n",
    "    while (cpu_score < rounds_to_win) & (player_score < rounds_to_win) & (current_round < n_rounds):\n",
    "        cpu_choice = f_cpu_choice()\n",
    "        player_choice = f_player_choice(gestures)\n",
    "        winner = f_winner(cpu_choice, player_choice)\n",
    "        cpu_score, player_score = f_verbose(player_choice, cpu_choice, winner, cpu_score, player_score, current_round, n_rounds, rounds_to_win)\n",
    "        current_round += 1\n",
    "    \n",
    "    if cpu_score > player_score:\n",
    "        return 1\n",
    "    elif player_score > cpu_score:\n",
    "        return 2\n",
    "    else:\n",
    "        return 0\n",
    "\n",
    "result = f_game_bonus(cpu_score, player_score, current_round, n_rounds, rounds_to_win, gestures)\n",
    "\n",
    "print(\"---------------------------------\")\n",
    "if result == 0:\n",
    "    print(\"RESULT: Tie\")\n",
    "elif result == 1:\n",
    "    print(\"RESULT: CPU Win\")\n",
    "elif result == 2:\n",
    "    print(\"RESULT: Player Win\")\n",
    "print(\"---------------------------------\")"
   ]
  },
  {
   "cell_type": "code",
   "execution_count": null,
   "metadata": {},
   "outputs": [],
   "source": []
  }
 ],
 "metadata": {
  "kernelspec": {
   "display_name": "Python 3",
   "language": "python",
   "name": "python3"
  },
  "language_info": {
   "codemirror_mode": {
    "name": "ipython",
    "version": 3
   },
   "file_extension": ".py",
   "mimetype": "text/x-python",
   "name": "python",
   "nbconvert_exporter": "python",
   "pygments_lexer": "ipython3",
   "version": "3.9.0"
  }
 },
 "nbformat": 4,
 "nbformat_minor": 2
}
