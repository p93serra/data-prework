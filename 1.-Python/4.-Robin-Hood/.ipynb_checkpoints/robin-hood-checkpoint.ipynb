{
 "cells": [
  {
   "cell_type": "markdown",
   "metadata": {},
   "source": [
    "<img src=\"https://bit.ly/2VnXWr2\" width=\"100\" align=\"left\"/>"
   ]
  },
  {
   "cell_type": "markdown",
   "metadata": {},
   "source": [
    "# Robin Hood\n",
    "Robin Hood has entered a competition to win the archery contest in Sherwood. With his bow and arrows, he needs to shoot on a target and try to hit as close as possible to the center.\n",
    "\n",
    "![](images/arrows.jpg)\n",
    "\n",
    "## Context\n",
    "In this challenge, the landing position of arrows shot by archers in the competition will be represented using 2-dimensional coordinates. \n",
    "\n",
    "In the 2-dimensional space, a point can be defined by a pair of values that correspond to the horizontal coordinate (x) and the vertical coordinate (y). For example, in our case, an arrow that hits the center of the archery target will land in position (0, 0) on the coordinate axes. \n",
    "\n",
    "The space can be divided into 4 zones (quadrants): Q1, Q2, Q3, Q4. If a point is in Q1, both its x coordinate and y coordinate are positive. Any point with a null x or y coordinate is considered to not belong to any quadrant. \n",
    "\n",
    "If you want to know more about the cartesian coordinate system, you can check this [link](https://en.wikipedia.org/wiki/Cartesian_coordinate_system). \n",
    "\n",
    "## Tools\n",
    "You don't necessarily need to use all the tools. Maybe you opt to use some of them or completely different ones, they are given to help you shape the exercise. Programming exercises can be solved in many different ways.\n",
    "* Data structures: **lists, sets, tuples**\n",
    "* Conditional statements: **if-elif-else**\n",
    "* Loop: **while/for**\n",
    "* Minimum (optional sorting)\n",
    "\n",
    "## Tasks\n",
    "Robin Hood has hit the following points:"
   ]
  },
  {
   "cell_type": "code",
   "execution_count": 2,
   "metadata": {},
   "outputs": [],
   "source": [
    "points = [(4, 5), (-0, 2), (4, 7), (1, -3), (3, -2), (4, 5), (3, 2), (5, 7), (-5, 7), (2, 2), (-4, 5), (0, -2),\n",
    "          (-4, 7), (-1, 3), (-3, 2), (-4, -5), (-3, 2), (5, 7), (5, 7), (2, 2), (9, 9), (-8, -9)]"
   ]
  },
  {
   "cell_type": "markdown",
   "metadata": {},
   "source": [
    "#### 1. Robin Hood is famous for hitting an arrow with another arrow. Find the coordinates of the points where an arrow hits another arrow."
   ]
  },
  {
   "cell_type": "code",
   "execution_count": 8,
   "metadata": {},
   "outputs": [
    {
     "name": "stdout",
     "output_type": "stream",
     "text": [
      "[(5, 7), (4, 5), (2, 2), (-3, 2)]\n"
     ]
    }
   ],
   "source": [
    "unique_positions = list(set(points))\n",
    "double_arrows = []\n",
    "\n",
    "for position in range(len(unique_positions)):\n",
    "    x_coord = unique_positions[position][0]\n",
    "    y_coord = unique_positions[position][1]\n",
    "    counter = 0\n",
    "    for num_try in range(len(points)):\n",
    "        if (x_coord == points[num_try][0]) & (y_coord == points[num_try][1]):\n",
    "            counter += 1\n",
    "    if counter > 1:\n",
    "        double_arrows.append((x_coord, y_coord))\n",
    "\n",
    "print(double_arrows)    "
   ]
  },
  {
   "cell_type": "markdown",
   "metadata": {},
   "source": [
    "#### 2. Calculate how many arrows have fallen in each quadrant. \n",
    "**Note**: the arrows that fall in the axis (x=0 or y=0) don't belong to any quadrant."
   ]
  },
  {
   "cell_type": "code",
   "execution_count": 9,
   "metadata": {},
   "outputs": [
    {
     "name": "stdout",
     "output_type": "stream",
     "text": [
      "[10, 6, 2, 2]\n"
     ]
    }
   ],
   "source": [
    "arrows_quadrant = [0, 0, 0, 0]\n",
    "\n",
    "for num_try in range(len(points)):\n",
    "    if (points[num_try][0] > 0) & (points[num_try][1] > 0):\n",
    "        arrows_quadrant[0] += 1\n",
    "    elif (points[num_try][0] < 0) & (points[num_try][1] > 0):\n",
    "        arrows_quadrant[1] += 1\n",
    "    elif (points[num_try][0] < 0) & (points[num_try][1] < 0):\n",
    "        arrows_quadrant[2] += 1\n",
    "    elif (points[num_try][0] > 0) & (points[num_try][1] < 0):\n",
    "        arrows_quadrant[3] += 1\n",
    "\n",
    "print(arrows_quadrant)"
   ]
  },
  {
   "cell_type": "markdown",
   "metadata": {},
   "source": [
    "#### 3. Find the point closest to the center. Calculate its distance to the center. \n",
    "Take into account that there might be more than one point at the minimum distance to the center.\n",
    "\n",
    "**Hint**: Use the Euclidean distance. You can find more information about it [here](https://en.wikipedia.org/wiki/Euclidean_distance).  \n",
    "**Hint**: Defining a function that calculates the distance to the center can help."
   ]
  },
  {
   "cell_type": "code",
   "execution_count": 14,
   "metadata": {},
   "outputs": [
    {
     "name": "stdout",
     "output_type": "stream",
     "text": [
      "List of closest points:  [(0, 2), (0, -2)]\n"
     ]
    }
   ],
   "source": [
    "import math\n",
    "\n",
    "closest_points = []\n",
    "minimum_distance = 999\n",
    "\n",
    "def euclidean_distance(x, y):\n",
    "    return math.sqrt((x * x) + (y * y))\n",
    "\n",
    "for num_try in range(len(points)):\n",
    "    if euclidean_distance(points[num_try][0],points[num_try][1]) < minimum_distance:\n",
    "        closest_points = [points[num_try]]\n",
    "        minimum_distance = euclidean_distance(points[num_try][0],points[num_try][1])\n",
    "    elif euclidean_distance(points[num_try][0],points[num_try][1]) == minimum_distance:\n",
    "        closest_points.append(points[num_try])\n",
    "\n",
    "print(\"List of closest points: \", closest_points)"
   ]
  },
  {
   "cell_type": "markdown",
   "metadata": {},
   "source": [
    "#### 4. If the archery target has a radius of 9, calculate the number of arrows that won't hit the target. \n",
    "**Hint**: Use the function created in step 3. "
   ]
  },
  {
   "cell_type": "code",
   "execution_count": 15,
   "metadata": {},
   "outputs": [
    {
     "name": "stdout",
     "output_type": "stream",
     "text": [
      "Arrows out of target:  2\n"
     ]
    }
   ],
   "source": [
    "num_out_of_target = 0\n",
    "\n",
    "for num_try in range(len(points)):\n",
    "    if euclidean_distance(points[num_try][0],points[num_try][1]) > 9:\n",
    "        num_out_of_target += 1\n",
    "\n",
    "print(\"Arrows out of target: \", num_out_of_target)"
   ]
  },
  {
   "cell_type": "code",
   "execution_count": null,
   "metadata": {},
   "outputs": [],
   "source": []
  }
 ],
 "metadata": {
  "kernelspec": {
   "display_name": "Python 3",
   "language": "python",
   "name": "python3"
  },
  "language_info": {
   "codemirror_mode": {
    "name": "ipython",
    "version": 3
   },
   "file_extension": ".py",
   "mimetype": "text/x-python",
   "name": "python",
   "nbconvert_exporter": "python",
   "pygments_lexer": "ipython3",
   "version": "3.9.0"
  }
 },
 "nbformat": 4,
 "nbformat_minor": 2
}
